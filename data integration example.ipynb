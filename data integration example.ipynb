{
 "cells": [
  {
   "cell_type": "code",
   "execution_count": 1,
   "id": "fa258816",
   "metadata": {},
   "outputs": [],
   "source": [
    "#required packages\n",
    "import os\n",
    "import pandas as pd\n",
    "import hmac, hashlib;\n",
    "import time;\n",
    "import base64;\n",
    "import requests;\n",
    "import ntplib\n",
    "import numpy as np\n",
    "from dotenv import load_dotenv\n",
    "import geopy\n",
    "from convertbng.util import convert_bng, convert_lonlat\n",
    "from scipy.spatial import cKDTree"
   ]
  },
  {
   "cell_type": "code",
   "execution_count": 2,
   "id": "5c465891",
   "metadata": {},
   "outputs": [],
   "source": [
    "#custom ETL scripts\n",
    "from etl_functions import tascomi_utils\n",
    "from etl_functions import exacom_utils"
   ]
  },
  {
   "cell_type": "code",
   "execution_count": 3,
   "id": "752ec921",
   "metadata": {},
   "outputs": [],
   "source": [
    "pd.options.display.max_colwidth = 1000"
   ]
  },
  {
   "cell_type": "markdown",
   "id": "0fa1fdc4",
   "metadata": {},
   "source": [
    "## Setup"
   ]
  },
  {
   "cell_type": "code",
   "execution_count": 4,
   "id": "8cc73daf",
   "metadata": {},
   "outputs": [
    {
     "data": {
      "text/plain": [
       "True"
      ]
     },
     "execution_count": 4,
     "metadata": {},
     "output_type": "execute_result"
    }
   ],
   "source": [
    "#Set up .env variables\n",
    "load_dotenv()"
   ]
  },
  {
   "cell_type": "code",
   "execution_count": 5,
   "id": "9a712f56",
   "metadata": {},
   "outputs": [],
   "source": [
    "#Initialise geolocator\n",
    "geolocator = geopy.geocoders.Nominatim(user_agent=\"buildup_wf\")"
   ]
  },
  {
   "cell_type": "code",
   "execution_count": 6,
   "id": "535239c3",
   "metadata": {},
   "outputs": [],
   "source": [
    "#Dictionary for matching planning and BC applications\n",
    "matches_dict = {\n",
    "    'planning_id': [],\n",
    "    'bc_dist': [],\n",
    "    'bc_id': []\n",
    "}\n"
   ]
  },
  {
   "cell_type": "markdown",
   "id": "a0772437",
   "metadata": {},
   "source": [
    "## Scheme-level data"
   ]
  },
  {
   "cell_type": "code",
   "execution_count": 11,
   "id": "f6519d73",
   "metadata": {},
   "outputs": [],
   "source": [
    "## PIPELINE OUTLINE\n",
    "\n",
    "##1. EXTRACT PLANNING DATA\n",
    "\n",
    "#Take accommodation schedule with PP reference - example doesn't have one, so we use a known planning ref\n",
    "planning_ref = '202512'\n",
    "\n",
    "#Use PP reference to get matching planning application from Tascomi Planning\n",
    "planning_data = (\n",
    "    tascomi_utils.get_data('planning', 'applications', optional_param='application_reference_number', optional_param_value=planning_ref)\n",
    "    .pipe(tascomi_utils.locate_apps, database='planning')\n",
    "    .pipe(tascomi_utils.clean_dates, dates=['decision_issued_date'])\n",
    "    .apply(lambda row: tascomi_utils.geocode_address(row) if not row.x_coordinate else row, axis=1)\n",
    ")\n"
   ]
  },
  {
   "cell_type": "code",
   "execution_count": 12,
   "id": "24fa50ae",
   "metadata": {},
   "outputs": [
    {
     "data": {
      "text/html": [
       "<div>\n",
       "<style scoped>\n",
       "    .dataframe tbody tr th:only-of-type {\n",
       "        vertical-align: middle;\n",
       "    }\n",
       "\n",
       "    .dataframe tbody tr th {\n",
       "        vertical-align: top;\n",
       "    }\n",
       "\n",
       "    .dataframe thead th {\n",
       "        text-align: right;\n",
       "    }\n",
       "</style>\n",
       "<table border=\"1\" class=\"dataframe\">\n",
       "  <thead>\n",
       "    <tr style=\"text-align: right;\">\n",
       "      <th></th>\n",
       "      <th>planning_id</th>\n",
       "      <th>planning_portal_reference</th>\n",
       "      <th>application_reference_number</th>\n",
       "      <th>decision_type_id</th>\n",
       "      <th>site_address_description</th>\n",
       "      <th>dtf_location_id</th>\n",
       "      <th>proposal</th>\n",
       "      <th>received_date</th>\n",
       "      <th>decision_issued_date</th>\n",
       "      <th>id_y</th>\n",
       "      <th>uprn</th>\n",
       "      <th>usrn</th>\n",
       "      <th>lpi_key</th>\n",
       "      <th>pao_text</th>\n",
       "      <th>postcode</th>\n",
       "      <th>x_coordinate</th>\n",
       "      <th>y_coordinate</th>\n",
       "      <th>blpu_logical_status_code</th>\n",
       "      <th>lpi_logical_status_code</th>\n",
       "    </tr>\n",
       "  </thead>\n",
       "  <tbody>\n",
       "    <tr>\n",
       "      <th>0</th>\n",
       "      <td>45979</td>\n",
       "      <td>None</td>\n",
       "      <td>202512</td>\n",
       "      <td>2</td>\n",
       "      <td>Homebase,2c,Fulbourne Road,Walthamstow,London,E17 4EE</td>\n",
       "      <td>1250679</td>\n",
       "      <td>&amp;lt;span style=&amp;quot;font-size:11.0pt;font-family:&amp;amp;quot;Arial&amp;amp;quot;,sans-serif;\\r\\nmso-fareast-font-family:Calibri;mso-fareast-theme-font:minor-latin;mso-ansi-language:\\r\\nEN-GB;mso-fareast-language:EN-US;mso-bidi-language:AR-SA&amp;quot;&amp;gt;Demolition and\\r\\nredevelopment of the site to provide a mixed use scheme comprising up to 583\\r\\nresidential units (Class C3 and including Private Rented Sector) in 8 buildings\\r\\nranging from 4 to 18 storeys, commercial uses (flexible retail, community and\\r\\nleisure uses), new access from Fulbourne Road, car parking; provision of new\\r\\nplant and renewable energy equipment; creation of servicing areas and provision\\r\\nof associated services, including waste, refuse, cycle storage, and lighting;\\r\\nand new routes and open spaces within the development and associated works and\\r\\noperations. (Amended description - Further information/amended Environmental\\r\\nImpact Assessment).&amp;lt;/span&amp;gt;</td>\n",
       "      <td>2020-08-19 00:00:00</td>\n",
       "      <td>2021-04-20</td>\n",
       "      <td>1250679</td>\n",
       "      <td>100022980796</td>\n",
       "      <td>22838500</td>\n",
       "      <td>5930L000044821</td>\n",
       "      <td>HOMEBASE</td>\n",
       "      <td>E17 4EE</td>\n",
       "      <td>538468</td>\n",
       "      <td>190114</td>\n",
       "      <td>1</td>\n",
       "      <td>1</td>\n",
       "    </tr>\n",
       "  </tbody>\n",
       "</table>\n",
       "</div>"
      ],
      "text/plain": [
       "  planning_id planning_portal_reference application_reference_number  \\\n",
       "0       45979                      None                       202512   \n",
       "\n",
       "  decision_type_id                               site_address_description  \\\n",
       "0                2  Homebase,2c,Fulbourne Road,Walthamstow,London,E17 4EE   \n",
       "\n",
       "  dtf_location_id  \\\n",
       "0         1250679   \n",
       "\n",
       "                                                                                                                                                                                                                                                                                                                                                                                                                                                                                                                                                                                                                                                                                                                                                                                                                                                                                                                                                                             proposal  \\\n",
       "0  &lt;span style=&quot;font-size:11.0pt;font-family:&amp;quot;Arial&amp;quot;,sans-serif;\\r\\nmso-fareast-font-family:Calibri;mso-fareast-theme-font:minor-latin;mso-ansi-language:\\r\\nEN-GB;mso-fareast-language:EN-US;mso-bidi-language:AR-SA&quot;&gt;Demolition and\\r\\nredevelopment of the site to provide a mixed use scheme comprising up to 583\\r\\nresidential units (Class C3 and including Private Rented Sector) in 8 buildings\\r\\nranging from 4 to 18 storeys, commercial uses (flexible retail, community and\\r\\nleisure uses), new access from Fulbourne Road, car parking; provision of new\\r\\nplant and renewable energy equipment; creation of servicing areas and provision\\r\\nof associated services, including waste, refuse, cycle storage, and lighting;\\r\\nand new routes and open spaces within the development and associated works and\\r\\noperations. (Amended description - Further information/amended Environmental\\r\\nImpact Assessment).&lt;/span&gt;   \n",
       "\n",
       "         received_date decision_issued_date     id_y          uprn      usrn  \\\n",
       "0  2020-08-19 00:00:00           2021-04-20  1250679  100022980796  22838500   \n",
       "\n",
       "          lpi_key  pao_text postcode x_coordinate y_coordinate  \\\n",
       "0  5930L000044821  HOMEBASE  E17 4EE       538468       190114   \n",
       "\n",
       "  blpu_logical_status_code lpi_logical_status_code  \n",
       "0                        1                       1  "
      ]
     },
     "execution_count": 12,
     "metadata": {},
     "output_type": "execute_result"
    }
   ],
   "source": [
    "planning_data"
   ]
  },
  {
   "cell_type": "code",
   "execution_count": 13,
   "id": "ba15ec56",
   "metadata": {},
   "outputs": [],
   "source": [
    "##2. EXTRACT BC DATA\n",
    "\n",
    "#load in BC data - daily refresh\n",
    "BC_data = (\n",
    "    tascomi_utils.get_data('build', 'applications', optional_param='received_date', optional_param_value='2021-11-19')\n",
    "    .pipe(tascomi_utils.locate_apps, database='build')\n",
    "    .pipe(tascomi_utils.clean_dates, dates=['received_date', 'valid_date', 'decision_date', 'started_date', 'completed_date'])\n",
    "    .pipe(tascomi_utils.filter_bc)\n",
    ")"
   ]
  },
  {
   "cell_type": "code",
   "execution_count": 14,
   "id": "2546a175",
   "metadata": {},
   "outputs": [
    {
     "data": {
      "text/html": [
       "<div>\n",
       "<style scoped>\n",
       "    .dataframe tbody tr th:only-of-type {\n",
       "        vertical-align: middle;\n",
       "    }\n",
       "\n",
       "    .dataframe tbody tr th {\n",
       "        vertical-align: top;\n",
       "    }\n",
       "\n",
       "    .dataframe thead th {\n",
       "        text-align: right;\n",
       "    }\n",
       "</style>\n",
       "<table border=\"1\" class=\"dataframe\">\n",
       "  <thead>\n",
       "    <tr style=\"text-align: right;\">\n",
       "      <th></th>\n",
       "      <th>build_id</th>\n",
       "      <th>application_number</th>\n",
       "      <th>description</th>\n",
       "      <th>dtf_location_id</th>\n",
       "      <th>received_date</th>\n",
       "      <th>valid_date</th>\n",
       "      <th>decision_date</th>\n",
       "      <th>started_date</th>\n",
       "      <th>completed_date</th>\n",
       "      <th>site_description</th>\n",
       "      <th>id_y</th>\n",
       "      <th>uprn</th>\n",
       "      <th>usrn</th>\n",
       "      <th>lpi_key</th>\n",
       "      <th>pao_text</th>\n",
       "      <th>postcode</th>\n",
       "      <th>x_coordinate</th>\n",
       "      <th>y_coordinate</th>\n",
       "      <th>blpu_logical_status_code</th>\n",
       "      <th>lpi_logical_status_code</th>\n",
       "    </tr>\n",
       "  </thead>\n",
       "  <tbody>\n",
       "    <tr>\n",
       "      <th>0</th>\n",
       "      <td>3311792</td>\n",
       "      <td>2863/21/IN</td>\n",
       "      <td>Demolition of existing single storey structures and construct two new dwelllings.</td>\n",
       "      <td>4155061</td>\n",
       "      <td>2021-11-19</td>\n",
       "      <td>NaT</td>\n",
       "      <td>2021-11-23</td>\n",
       "      <td>NaT</td>\n",
       "      <td>NaT</td>\n",
       "      <td></td>\n",
       "      <td>4155061</td>\n",
       "      <td>100023013609</td>\n",
       "      <td>22879450</td>\n",
       "      <td>5930L000048324</td>\n",
       "      <td></td>\n",
       "      <td>E7 9EL</td>\n",
       "      <td>539575</td>\n",
       "      <td>185820</td>\n",
       "      <td>1</td>\n",
       "      <td>1</td>\n",
       "    </tr>\n",
       "    <tr>\n",
       "      <th>1</th>\n",
       "      <td>3311793</td>\n",
       "      <td>2864/21/PA/MAST</td>\n",
       "      <td>New mixed use development of 583 residential units and 3 commercial spaces. Comprising of 6 Blocks (Block A, 173 Units, Block B, 24 Units, Block C, 156 Unit, Block D , 48 Units, Block E, 73 Units \\r\\nBlock F, 109 Units) and 1 Hub, collectively known as \"Patchworks\"\\r\\n</td>\n",
       "      <td>4227964</td>\n",
       "      <td>2021-11-19</td>\n",
       "      <td>2021-11-19</td>\n",
       "      <td>2022-01-12</td>\n",
       "      <td>2022-01-13</td>\n",
       "      <td>NaT</td>\n",
       "      <td>6 Blocks, and 1 Hub collectively known as \"Patchworks\"\\r\\nThe Hub, \\r\\nBlock A – 173 Units, \\r\\nBlock B – 24 Units, \\r\\nBlock C – 156 Unit \\r\\nBlock D – 48 Units, \\r\\nBlock E – 73 Units \\r\\nBlock F – 109 Units</td>\n",
       "      <td>4227964</td>\n",
       "      <td>100022980796</td>\n",
       "      <td>22838500</td>\n",
       "      <td>5930L000044821</td>\n",
       "      <td>HOMEBASE</td>\n",
       "      <td>E17 4EE</td>\n",
       "      <td>538468</td>\n",
       "      <td>190114</td>\n",
       "      <td>1</td>\n",
       "      <td>1</td>\n",
       "    </tr>\n",
       "    <tr>\n",
       "      <th>2</th>\n",
       "      <td>3311808</td>\n",
       "      <td>2866/21/IN</td>\n",
       "      <td>Construction of a two-storey three-bedroom dwelling house with a study in the roof space following\\r\\ndemolition of existing garage at land adjacent to 4 Thorpe Road.</td>\n",
       "      <td>4207777</td>\n",
       "      <td>2021-11-19</td>\n",
       "      <td>NaT</td>\n",
       "      <td>2021-11-22</td>\n",
       "      <td>NaT</td>\n",
       "      <td>NaT</td>\n",
       "      <td>Land adjacent to 4 Thorpe Road</td>\n",
       "      <td>4207777</td>\n",
       "      <td>100022591176</td>\n",
       "      <td>22881850</td>\n",
       "      <td>5930L000119976</td>\n",
       "      <td></td>\n",
       "      <td>E17 4LA</td>\n",
       "      <td>538102</td>\n",
       "      <td>190265</td>\n",
       "      <td>1</td>\n",
       "      <td>1</td>\n",
       "    </tr>\n",
       "    <tr>\n",
       "      <th>3</th>\n",
       "      <td>3311809</td>\n",
       "      <td>2867/21/IN</td>\n",
       "      <td>Loft conversion at existing two storey dwelling.</td>\n",
       "      <td>4175244</td>\n",
       "      <td>2021-11-19</td>\n",
       "      <td>NaT</td>\n",
       "      <td>2022-04-25</td>\n",
       "      <td>NaT</td>\n",
       "      <td>2022-04-25</td>\n",
       "      <td></td>\n",
       "      <td>4175244</td>\n",
       "      <td>100022573947</td>\n",
       "      <td>22862000</td>\n",
       "      <td>5930L000027374</td>\n",
       "      <td></td>\n",
       "      <td>E17 7EB</td>\n",
       "      <td>536324</td>\n",
       "      <td>189124</td>\n",
       "      <td>1</td>\n",
       "      <td>1</td>\n",
       "    </tr>\n",
       "  </tbody>\n",
       "</table>\n",
       "</div>"
      ],
      "text/plain": [
       "  build_id application_number  \\\n",
       "0  3311792         2863/21/IN   \n",
       "1  3311793    2864/21/PA/MAST   \n",
       "2  3311808         2866/21/IN   \n",
       "3  3311809         2867/21/IN   \n",
       "\n",
       "                                                                                                                                                                                                                                                                     description  \\\n",
       "0                                                                                                                                                                                              Demolition of existing single storey structures and construct two new dwelllings.   \n",
       "1  New mixed use development of 583 residential units and 3 commercial spaces. Comprising of 6 Blocks (Block A, 173 Units, Block B, 24 Units, Block C, 156 Unit, Block D , 48 Units, Block E, 73 Units \\r\\nBlock F, 109 Units) and 1 Hub, collectively known as \"Patchworks\"\\r\\n   \n",
       "2                                                                                                         Construction of a two-storey three-bedroom dwelling house with a study in the roof space following\\r\\ndemolition of existing garage at land adjacent to 4 Thorpe Road.   \n",
       "3                                                                                                                                                                                                                               Loft conversion at existing two storey dwelling.   \n",
       "\n",
       "  dtf_location_id received_date valid_date decision_date started_date  \\\n",
       "0         4155061    2021-11-19        NaT    2021-11-23          NaT   \n",
       "1         4227964    2021-11-19 2021-11-19    2022-01-12   2022-01-13   \n",
       "2         4207777    2021-11-19        NaT    2021-11-22          NaT   \n",
       "3         4175244    2021-11-19        NaT    2022-04-25          NaT   \n",
       "\n",
       "  completed_date  \\\n",
       "0            NaT   \n",
       "1            NaT   \n",
       "2            NaT   \n",
       "3     2022-04-25   \n",
       "\n",
       "                                                                                                                                                                                                     site_description  \\\n",
       "0                                                                                                                                                                                                                       \n",
       "1  6 Blocks, and 1 Hub collectively known as \"Patchworks\"\\r\\nThe Hub, \\r\\nBlock A – 173 Units, \\r\\nBlock B – 24 Units, \\r\\nBlock C – 156 Unit \\r\\nBlock D – 48 Units, \\r\\nBlock E – 73 Units \\r\\nBlock F – 109 Units    \n",
       "2                                                                                                                                                                                      Land adjacent to 4 Thorpe Road   \n",
       "3                                                                                                                                                                                                                       \n",
       "\n",
       "      id_y          uprn      usrn         lpi_key  pao_text postcode  \\\n",
       "0  4155061  100023013609  22879450  5930L000048324             E7 9EL   \n",
       "1  4227964  100022980796  22838500  5930L000044821  HOMEBASE  E17 4EE   \n",
       "2  4207777  100022591176  22881850  5930L000119976            E17 4LA   \n",
       "3  4175244  100022573947  22862000  5930L000027374            E17 7EB   \n",
       "\n",
       "  x_coordinate y_coordinate blpu_logical_status_code lpi_logical_status_code  \n",
       "0       539575       185820                        1                       1  \n",
       "1       538468       190114                        1                       1  \n",
       "2       538102       190265                        1                       1  \n",
       "3       536324       189124                        1                       1  "
      ]
     },
     "execution_count": 14,
     "metadata": {},
     "output_type": "execute_result"
    }
   ],
   "source": [
    "BC_data"
   ]
  },
  {
   "cell_type": "code",
   "execution_count": 15,
   "id": "74c215d7",
   "metadata": {},
   "outputs": [],
   "source": [
    "##3. MATCH PLANNING AND BC\n",
    "\n",
    "#run matching algorithm\n",
    "planning_data.apply(lambda row: tascomi_utils.nearest_bc_apps(row, BC_data, matches_dict), axis=1)\n",
    "\n",
    "#Create df from mapping dict\n",
    "test_mapping = pd.DataFrame.from_dict(matches_dict)\n",
    "\n",
    "#Drop applications further than 50m away\n",
    "mask = test_mapping['bc_dist'] > 50\n",
    "test_mapping = test_mapping.loc[~mask].copy()"
   ]
  },
  {
   "cell_type": "code",
   "execution_count": 16,
   "id": "fc105f60",
   "metadata": {},
   "outputs": [
    {
     "data": {
      "text/html": [
       "<div>\n",
       "<style scoped>\n",
       "    .dataframe tbody tr th:only-of-type {\n",
       "        vertical-align: middle;\n",
       "    }\n",
       "\n",
       "    .dataframe tbody tr th {\n",
       "        vertical-align: top;\n",
       "    }\n",
       "\n",
       "    .dataframe thead th {\n",
       "        text-align: right;\n",
       "    }\n",
       "</style>\n",
       "<table border=\"1\" class=\"dataframe\">\n",
       "  <thead>\n",
       "    <tr style=\"text-align: right;\">\n",
       "      <th></th>\n",
       "      <th>planning_id</th>\n",
       "      <th>bc_dist</th>\n",
       "      <th>bc_id</th>\n",
       "    </tr>\n",
       "  </thead>\n",
       "  <tbody>\n",
       "    <tr>\n",
       "      <th>0</th>\n",
       "      <td>45979</td>\n",
       "      <td>0.0</td>\n",
       "      <td>3311793</td>\n",
       "    </tr>\n",
       "  </tbody>\n",
       "</table>\n",
       "</div>"
      ],
      "text/plain": [
       "  planning_id  bc_dist    bc_id\n",
       "0       45979      0.0  3311793"
      ]
     },
     "execution_count": 16,
     "metadata": {},
     "output_type": "execute_result"
    }
   ],
   "source": [
    "test_mapping"
   ]
  },
  {
   "cell_type": "code",
   "execution_count": 17,
   "id": "5d5a84c0",
   "metadata": {},
   "outputs": [],
   "source": [
    "#Merge planning and BC information to mapping df\n",
    "test_mapping = test_mapping.merge(planning_data, on='planning_id', how='left')\n",
    "test_mapping = test_mapping.merge(BC_data, left_on='bc_id', right_on='build_id', how='left')"
   ]
  },
  {
   "cell_type": "code",
   "execution_count": 18,
   "id": "3830c45e",
   "metadata": {},
   "outputs": [
    {
     "name": "stdout",
     "output_type": "stream",
     "text": [
      "A possible Building Control application match has been found for planning application reference \n",
      "202512\n",
      "\n",
      "The application locations are 0.0m apart\n",
      "\n",
      "Planning application description:\n",
      "&lt;span style=&quot;font-size:11.0pt;font-family:&amp;quot;Arial&amp;quot;,sans-serif;\n",
      "mso-fareast-font-family:Calibri;mso-fareast-theme-font:minor-latin;mso-ansi-language:\n",
      "EN-GB;mso-fareast-language:EN-US;mso-bidi-language:AR-SA&quot;&gt;Demolition and\n",
      "redevelopment of the site to provide a mixed use scheme comprising up to 583\n",
      "residential units (Class C3 and including Private Rented Sector) in 8 buildings\n",
      "ranging from 4 to 18 storeys, commercial uses (flexible retail, community and\n",
      "leisure uses), new access from Fulbourne Road, car parking; provision of new\n",
      "plant and renewable energy equipment; creation of servicing areas and provision\n",
      "of associated services, including waste, refuse, cycle storage, and lighting;\n",
      "and new routes and open spaces within the development and associated works and\n",
      "operations. (Amended description - Further information/amended Environmental\n",
      "Impact Assessment).&lt;/span&gt;\n",
      "\n",
      "Building Control application description (ref: 2864/21/PA/MAST):\n",
      "New mixed use development of 583 residential units and 3 commercial spaces. Comprising of 6 Blocks (Block A, 173 Units, Block B, 24 Units, Block C, 156 Unit, Block D , 48 Units, Block E, 73 Units \n",
      "Block F, 109 Units) and 1 Hub, collectively known as \"Patchworks\"\n",
      "\n",
      "Confirm match: Y for yes, N for no Y\n"
     ]
    }
   ],
   "source": [
    "print(f\"\"\"A possible Building Control application match has been found for planning application reference \n",
    "{planning_data['application_reference_number'][0]}\n",
    "\n",
    "The application locations are {test_mapping['bc_dist'][0]}m apart\n",
    "\n",
    "Planning application description:\n",
    "{test_mapping['proposal'][0]}\n",
    "\n",
    "Building Control application description (ref: {test_mapping['application_number'][0]}):\n",
    "{test_mapping['description'][0]}\"\"\")\n",
    "\n",
    "confirmation = str(input(\"Confirm match: Y for yes, N for no \"))"
   ]
  },
  {
   "cell_type": "code",
   "execution_count": 19,
   "id": "e878e34e",
   "metadata": {},
   "outputs": [],
   "source": [
    "if confirmation == 'Y':\n",
    "    cols = ['application_reference_number', 'received_date_x', 'decision_type_id', 'decision_issued_date', 'application_number', 'bc_id', 'received_date_y']\n",
    "    match = test_mapping[cols].copy()"
   ]
  },
  {
   "cell_type": "code",
   "execution_count": 20,
   "id": "e8c92a09",
   "metadata": {},
   "outputs": [],
   "source": [
    "#populate planning approval and application dates\n",
    "match = match.rename(columns={'received_date_x': 'planning_application'})\n",
    "\n",
    "approval_types = ['2', '3', '4', '11', '13', '14', '15', '18']\n",
    "match['planning_approval'] = pd.to_datetime(np.where(match['decision_type_id'].isin(approval_types), match['decision_issued_date'], pd.NaT))"
   ]
  },
  {
   "cell_type": "code",
   "execution_count": 21,
   "id": "71542db4",
   "metadata": {},
   "outputs": [],
   "source": [
    "#set up site visit column\n",
    "match['wf_bc_site_visits'] = np.empty((len(match), 0)).tolist()"
   ]
  },
  {
   "cell_type": "code",
   "execution_count": 22,
   "id": "84246ad5",
   "metadata": {},
   "outputs": [],
   "source": [
    "#join inspections\n",
    "inspections = tascomi_utils.get_data('build', 'inspections', optional_param='inspected_date', optional_param_value='2022-01-13')\n",
    "mask = match['bc_id'].isin(inspections['application_id'].tolist())\n",
    "match.loc[mask] = match.loc[mask].apply(lambda x: tascomi_utils.join_inspections(x, inspections), axis=1)"
   ]
  },
  {
   "cell_type": "code",
   "execution_count": 23,
   "id": "b33eb477",
   "metadata": {},
   "outputs": [],
   "source": [
    "#rename date column\n",
    "bc_initial_notice = 'IN'\n",
    "\n",
    "if bc_initial_notice in match['application_number']:\n",
    "    match = match.rename(columns={'received_date_y': 'bc_initial_notice_submitted'})\n",
    "\n",
    "else:\n",
    "    match = match.rename(columns={'received_date_y': 'bc_application_submitted'})"
   ]
  },
  {
   "cell_type": "code",
   "execution_count": 24,
   "id": "473b6f57",
   "metadata": {},
   "outputs": [
    {
     "data": {
      "text/html": [
       "<div>\n",
       "<style scoped>\n",
       "    .dataframe tbody tr th:only-of-type {\n",
       "        vertical-align: middle;\n",
       "    }\n",
       "\n",
       "    .dataframe tbody tr th {\n",
       "        vertical-align: top;\n",
       "    }\n",
       "\n",
       "    .dataframe thead th {\n",
       "        text-align: right;\n",
       "    }\n",
       "</style>\n",
       "<table border=\"1\" class=\"dataframe\">\n",
       "  <thead>\n",
       "    <tr style=\"text-align: right;\">\n",
       "      <th></th>\n",
       "      <th>application_reference_number</th>\n",
       "      <th>planning_application</th>\n",
       "      <th>planning_approval</th>\n",
       "      <th>bc_application_submitted</th>\n",
       "      <th>wf_bc_site_visits</th>\n",
       "    </tr>\n",
       "  </thead>\n",
       "  <tbody>\n",
       "    <tr>\n",
       "      <th>0</th>\n",
       "      <td>202512</td>\n",
       "      <td>2020-08-19 00:00:00</td>\n",
       "      <td>2021-04-20</td>\n",
       "      <td>2021-11-19</td>\n",
       "      <td>[2022-01-13 00:00:00]</td>\n",
       "    </tr>\n",
       "  </tbody>\n",
       "</table>\n",
       "</div>"
      ],
      "text/plain": [
       "  application_reference_number planning_application planning_approval  \\\n",
       "0                       202512  2020-08-19 00:00:00        2021-04-20   \n",
       "\n",
       "  bc_application_submitted      wf_bc_site_visits  \n",
       "0               2021-11-19  [2022-01-13 00:00:00]  "
      ]
     },
     "execution_count": 24,
     "metadata": {},
     "output_type": "execute_result"
    }
   ],
   "source": [
    "match[['application_reference_number', 'planning_application', 'planning_approval', 'bc_application_submitted', 'wf_bc_site_visits']]"
   ]
  },
  {
   "cell_type": "markdown",
   "id": "a173846f",
   "metadata": {},
   "source": [
    "## Phase-level data"
   ]
  },
  {
   "cell_type": "code",
   "execution_count": 25,
   "id": "9a6f7e7d",
   "metadata": {},
   "outputs": [],
   "source": [
    "##2. EXTRACT EXACOM DATA\n",
    "#Read in Exacom exports\n",
    "CIL_sc = (\n",
    "    pd.read_csv('../data/raw/Score_Card20220308.csv')\n",
    "    .pipe(exacom_utils.clean_sc)\n",
    ")\n",
    "\n",
    "CIL_dv = (\n",
    "    pd.read_csv('../data/raw/Demand_Values_Per_Authority_20220308.csv')\n",
    "    .pipe(exacom_utils.clean_dv)\n",
    ")\n",
    "\n",
    "CIL_full = (\n",
    "    exacom_utils.merge_reports(CIL_dv, CIL_sc)\n",
    "    .pipe(exacom_utils.filter_columns)\n",
    ")"
   ]
  },
  {
   "cell_type": "code",
   "execution_count": 26,
   "id": "a0912e98",
   "metadata": {},
   "outputs": [],
   "source": [
    "CIL_dv = pd.read_csv('../data/raw/Demand_Values_Per_Authority_20220308.csv')"
   ]
  },
  {
   "cell_type": "code",
   "execution_count": 28,
   "id": "1351d02a",
   "metadata": {},
   "outputs": [],
   "source": [
    "mask = CIL_full['planning_ref_number'] == '202512'\n",
    "phase = CIL_full.loc[mask].copy()"
   ]
  },
  {
   "cell_type": "code",
   "execution_count": 29,
   "id": "ae5528e9",
   "metadata": {},
   "outputs": [
    {
     "data": {
      "text/html": [
       "<div>\n",
       "<style scoped>\n",
       "    .dataframe tbody tr th:only-of-type {\n",
       "        vertical-align: middle;\n",
       "    }\n",
       "\n",
       "    .dataframe tbody tr th {\n",
       "        vertical-align: top;\n",
       "    }\n",
       "\n",
       "    .dataframe thead th {\n",
       "        text-align: right;\n",
       "    }\n",
       "</style>\n",
       "<table border=\"1\" class=\"dataframe\">\n",
       "  <thead>\n",
       "    <tr style=\"text-align: right;\">\n",
       "      <th></th>\n",
       "      <th>planning_ref_number</th>\n",
       "      <th>Phase</th>\n",
       "      <th>Commencement Date</th>\n",
       "      <th>Form 2 Rec</th>\n",
       "      <th>LN Date</th>\n",
       "      <th>Form 6 Rec</th>\n",
       "    </tr>\n",
       "  </thead>\n",
       "  <tbody>\n",
       "    <tr>\n",
       "      <th>439</th>\n",
       "      <td>202512</td>\n",
       "      <td>1</td>\n",
       "      <td>29-Jun-21</td>\n",
       "      <td>10-May-21</td>\n",
       "      <td>23-Jun-21</td>\n",
       "      <td>28-Jun-21</td>\n",
       "    </tr>\n",
       "    <tr>\n",
       "      <th>453</th>\n",
       "      <td>202512</td>\n",
       "      <td>2</td>\n",
       "      <td>25-Oct-21</td>\n",
       "      <td>09-Jul-21</td>\n",
       "      <td>02-Aug-21</td>\n",
       "      <td>21-Oct-21</td>\n",
       "    </tr>\n",
       "    <tr>\n",
       "      <th>454</th>\n",
       "      <td>202512</td>\n",
       "      <td>3</td>\n",
       "      <td>06-Dec-21</td>\n",
       "      <td>09-Jul-21</td>\n",
       "      <td>02-Aug-21</td>\n",
       "      <td>21-Oct-21</td>\n",
       "    </tr>\n",
       "    <tr>\n",
       "      <th>455</th>\n",
       "      <td>202512</td>\n",
       "      <td>4</td>\n",
       "      <td>10-Jan-22</td>\n",
       "      <td>09-Jul-21</td>\n",
       "      <td>02-Aug-21</td>\n",
       "      <td>21-Oct-21</td>\n",
       "    </tr>\n",
       "    <tr>\n",
       "      <th>456</th>\n",
       "      <td>202512</td>\n",
       "      <td>5</td>\n",
       "      <td>15-Nov-21</td>\n",
       "      <td>02-Sep-21</td>\n",
       "      <td>28-Sep-21</td>\n",
       "      <td>21-Oct-21</td>\n",
       "    </tr>\n",
       "    <tr>\n",
       "      <th>457</th>\n",
       "      <td>202512</td>\n",
       "      <td>6</td>\n",
       "      <td>25-Oct-21</td>\n",
       "      <td>02-Sep-21</td>\n",
       "      <td>20-Oct-21</td>\n",
       "      <td>21-Oct-21</td>\n",
       "    </tr>\n",
       "  </tbody>\n",
       "</table>\n",
       "</div>"
      ],
      "text/plain": [
       "    planning_ref_number Phase Commencement Date Form 2 Rec    LN Date  \\\n",
       "439              202512     1         29-Jun-21  10-May-21  23-Jun-21   \n",
       "453              202512     2         25-Oct-21  09-Jul-21  02-Aug-21   \n",
       "454              202512     3         06-Dec-21  09-Jul-21  02-Aug-21   \n",
       "455              202512     4         10-Jan-22  09-Jul-21  02-Aug-21   \n",
       "456              202512     5         15-Nov-21  02-Sep-21  28-Sep-21   \n",
       "457              202512     6         25-Oct-21  02-Sep-21  20-Oct-21   \n",
       "\n",
       "    Form 6 Rec  \n",
       "439  28-Jun-21  \n",
       "453  21-Oct-21  \n",
       "454  21-Oct-21  \n",
       "455  21-Oct-21  \n",
       "456  21-Oct-21  \n",
       "457  21-Oct-21  "
      ]
     },
     "execution_count": 29,
     "metadata": {},
     "output_type": "execute_result"
    }
   ],
   "source": [
    "phase"
   ]
  },
  {
   "cell_type": "code",
   "execution_count": null,
   "id": "b03f46a1",
   "metadata": {},
   "outputs": [],
   "source": []
  }
 ],
 "metadata": {
  "kernelspec": {
   "display_name": "govtech",
   "language": "python",
   "name": "govtech"
  },
  "language_info": {
   "codemirror_mode": {
    "name": "ipython",
    "version": 3
   },
   "file_extension": ".py",
   "mimetype": "text/x-python",
   "name": "python",
   "nbconvert_exporter": "python",
   "pygments_lexer": "ipython3",
   "version": "3.9.10"
  }
 },
 "nbformat": 4,
 "nbformat_minor": 5
}
